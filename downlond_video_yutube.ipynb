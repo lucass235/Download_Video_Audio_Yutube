{
 "cells": [
  {
   "cell_type": "code",
   "execution_count": 24,
   "metadata": {},
   "outputs": [],
   "source": [
    "import PySimpleGUI as sg\n",
    "from pytubefix import YouTube\n",
    "from moviepy import VideoFileClip\n",
    "import os"
   ]
  },
  {
   "cell_type": "code",
   "execution_count": 25,
   "metadata": {},
   "outputs": [],
   "source": [
    "# Layout da interface gráfica\n",
    "layout = [\n",
    "    [sg.Text(\"Insira o link do vídeo do YouTube:\")],\n",
    "    [sg.InputText(key=\"video_url\")],\n",
    "    [sg.Button(\"Baixar\"), sg.Exit()],\n",
    "    [sg.Output(size=(60, 10))]\n",
    "]"
   ]
  },
  {
   "cell_type": "code",
   "execution_count": 26,
   "metadata": {},
   "outputs": [],
   "source": [
    "# Cria a janela\n",
    "window = sg.Window(\"YouTube Downloader\", layout)"
   ]
  },
  {
   "cell_type": "code",
   "execution_count": 27,
   "metadata": {},
   "outputs": [],
   "source": [
    "while True:\n",
    "    event, values = window.read()\n",
    "    \n",
    "    if event in (sg.WINDOW_CLOSED, \"Exit\"):\n",
    "        break\n",
    "    \n",
    "    if event == \"Baixar\":\n",
    "        video_url = values[\"video_url\"]\n",
    "        if not video_url:\n",
    "            print(\"Por favor, insira um link válido!\")\n",
    "            continue\n",
    "        \n",
    "        try:\n",
    "            # Cria o objeto YouTube\n",
    "            yt = YouTube(video_url)\n",
    "            print(f\"Baixando: {yt.title}\")\n",
    "            \n",
    "            # Obtem o stream de maior resolução\n",
    "            ys = yt.streams.get_highest_resolution()\n",
    "            \n",
    "            # Diretórios de saída\n",
    "            output_path_video = os.path.expanduser(\"~/Downloads/video\")\n",
    "            output_path_audio = os.path.expanduser(\"~/Downloads/audio\")\n",
    "            os.makedirs(output_path_video, exist_ok=True)\n",
    "            os.makedirs(output_path_audio, exist_ok=True)\n",
    "            \n",
    "            # Faz o download do vídeo\n",
    "            print(\"Baixando o vídeo...\")\n",
    "            video_path = ys.download(output_path=output_path_video)\n",
    "            print(\"Download do vídeo concluído!\")\n",
    "            \n",
    "            # Extrai o áudio do vídeo\n",
    "            print(\"Extraindo o áudio...\")\n",
    "            video_clip = VideoFileClip(video_path)\n",
    "            audio_path = os.path.join(output_path_audio, f\"{yt.title}.mp3\")\n",
    "            video_clip.audio.write_audiofile(audio_path)\n",
    "            video_clip.close()\n",
    "            print(\"Áudio extraído com sucesso!\")\n",
    "        \n",
    "        except Exception as e:\n",
    "            print(f\"Ocorreu um erro: {e}\")\n",
    "\n",
    "window.close()"
   ]
  }
 ],
 "metadata": {
  "kernelspec": {
   "display_name": "Python 3",
   "language": "python",
   "name": "python3"
  },
  "language_info": {
   "codemirror_mode": {
    "name": "ipython",
    "version": 3
   },
   "file_extension": ".py",
   "mimetype": "text/x-python",
   "name": "python",
   "nbconvert_exporter": "python",
   "pygments_lexer": "ipython3",
   "version": "3.12.5"
  }
 },
 "nbformat": 4,
 "nbformat_minor": 2
}
